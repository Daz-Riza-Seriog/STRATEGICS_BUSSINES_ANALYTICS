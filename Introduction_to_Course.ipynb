{
 "cells": [
  {
   "cell_type": "markdown",
   "id": "c466d35a",
   "metadata": {},
   "source": [
    "### Import Libraries"
   ]
  },
  {
   "cell_type": "code",
   "execution_count": 11,
   "id": "c4faeefb",
   "metadata": {},
   "outputs": [],
   "source": [
    "import numpy as np\n",
    "import pandas as pd\n",
    "import matplotlib.pyplot as plt\n",
    "import seaborn as sns\n",
    "import warnings\n",
    "import xlwings as xw\n",
    "warnings.filterwarnings('ignore')\n",
    "sns.set()"
   ]
  },
  {
   "cell_type": "markdown",
   "id": "96c0e052",
   "metadata": {},
   "source": [
    "## Import DATA BASE"
   ]
  },
  {
   "cell_type": "code",
   "execution_count": 12,
   "id": "936e1ebb",
   "metadata": {},
   "outputs": [
    {
     "data": {
      "text/html": [
       "<div>\n",
       "<style scoped>\n",
       "    .dataframe tbody tr th:only-of-type {\n",
       "        vertical-align: middle;\n",
       "    }\n",
       "\n",
       "    .dataframe tbody tr th {\n",
       "        vertical-align: top;\n",
       "    }\n",
       "\n",
       "    .dataframe thead th {\n",
       "        text-align: right;\n",
       "    }\n",
       "</style>\n",
       "<table border=\"1\" class=\"dataframe\">\n",
       "  <thead>\n",
       "    <tr style=\"text-align: right;\">\n",
       "      <th></th>\n",
       "      <th>HHID</th>\n",
       "      <th>TIME</th>\n",
       "      <th>PASTA</th>\n",
       "      <th>EXPOS</th>\n",
       "      <th>AGE</th>\n",
       "      <th>INCOME</th>\n",
       "      <th>AREA</th>\n",
       "    </tr>\n",
       "  </thead>\n",
       "  <tbody>\n",
       "    <tr>\n",
       "      <th>0</th>\n",
       "      <td>1</td>\n",
       "      <td>1</td>\n",
       "      <td>0.939444</td>\n",
       "      <td>1</td>\n",
       "      <td>61.710758</td>\n",
       "      <td>25186.798772</td>\n",
       "      <td>3</td>\n",
       "    </tr>\n",
       "    <tr>\n",
       "      <th>1</th>\n",
       "      <td>1</td>\n",
       "      <td>2</td>\n",
       "      <td>2.560969</td>\n",
       "      <td>2</td>\n",
       "      <td>61.710758</td>\n",
       "      <td>25186.798772</td>\n",
       "      <td>3</td>\n",
       "    </tr>\n",
       "    <tr>\n",
       "      <th>2</th>\n",
       "      <td>1</td>\n",
       "      <td>3</td>\n",
       "      <td>0.901123</td>\n",
       "      <td>0</td>\n",
       "      <td>61.710758</td>\n",
       "      <td>25186.798772</td>\n",
       "      <td>3</td>\n",
       "    </tr>\n",
       "    <tr>\n",
       "      <th>3</th>\n",
       "      <td>1</td>\n",
       "      <td>4</td>\n",
       "      <td>1.916530</td>\n",
       "      <td>1</td>\n",
       "      <td>61.710758</td>\n",
       "      <td>25186.798772</td>\n",
       "      <td>3</td>\n",
       "    </tr>\n",
       "    <tr>\n",
       "      <th>4</th>\n",
       "      <td>1</td>\n",
       "      <td>5</td>\n",
       "      <td>1.548751</td>\n",
       "      <td>0</td>\n",
       "      <td>61.710758</td>\n",
       "      <td>25186.798772</td>\n",
       "      <td>3</td>\n",
       "    </tr>\n",
       "    <tr>\n",
       "      <th>...</th>\n",
       "      <td>...</td>\n",
       "      <td>...</td>\n",
       "      <td>...</td>\n",
       "      <td>...</td>\n",
       "      <td>...</td>\n",
       "      <td>...</td>\n",
       "      <td>...</td>\n",
       "    </tr>\n",
       "    <tr>\n",
       "      <th>39995</th>\n",
       "      <td>2000</td>\n",
       "      <td>16</td>\n",
       "      <td>0.750441</td>\n",
       "      <td>1</td>\n",
       "      <td>44.996287</td>\n",
       "      <td>23161.628046</td>\n",
       "      <td>3</td>\n",
       "    </tr>\n",
       "    <tr>\n",
       "      <th>39996</th>\n",
       "      <td>2000</td>\n",
       "      <td>17</td>\n",
       "      <td>2.173094</td>\n",
       "      <td>0</td>\n",
       "      <td>44.996287</td>\n",
       "      <td>23161.628046</td>\n",
       "      <td>3</td>\n",
       "    </tr>\n",
       "    <tr>\n",
       "      <th>39997</th>\n",
       "      <td>2000</td>\n",
       "      <td>18</td>\n",
       "      <td>1.195418</td>\n",
       "      <td>0</td>\n",
       "      <td>44.996287</td>\n",
       "      <td>23161.628046</td>\n",
       "      <td>3</td>\n",
       "    </tr>\n",
       "    <tr>\n",
       "      <th>39998</th>\n",
       "      <td>2000</td>\n",
       "      <td>19</td>\n",
       "      <td>2.349278</td>\n",
       "      <td>1</td>\n",
       "      <td>44.996287</td>\n",
       "      <td>23161.628046</td>\n",
       "      <td>3</td>\n",
       "    </tr>\n",
       "    <tr>\n",
       "      <th>39999</th>\n",
       "      <td>2000</td>\n",
       "      <td>20</td>\n",
       "      <td>0.951419</td>\n",
       "      <td>0</td>\n",
       "      <td>44.996287</td>\n",
       "      <td>23161.628046</td>\n",
       "      <td>3</td>\n",
       "    </tr>\n",
       "  </tbody>\n",
       "</table>\n",
       "<p>40000 rows × 7 columns</p>\n",
       "</div>"
      ],
      "text/plain": [
       "       HHID  TIME     PASTA  EXPOS        AGE        INCOME  AREA\n",
       "0         1     1  0.939444      1  61.710758  25186.798772     3\n",
       "1         1     2  2.560969      2  61.710758  25186.798772     3\n",
       "2         1     3  0.901123      0  61.710758  25186.798772     3\n",
       "3         1     4  1.916530      1  61.710758  25186.798772     3\n",
       "4         1     5  1.548751      0  61.710758  25186.798772     3\n",
       "...     ...   ...       ...    ...        ...           ...   ...\n",
       "39995  2000    16  0.750441      1  44.996287  23161.628046     3\n",
       "39996  2000    17  2.173094      0  44.996287  23161.628046     3\n",
       "39997  2000    18  1.195418      0  44.996287  23161.628046     3\n",
       "39998  2000    19  2.349278      1  44.996287  23161.628046     3\n",
       "39999  2000    20  0.951419      0  44.996287  23161.628046     3\n",
       "\n",
       "[40000 rows x 7 columns]"
      ]
     },
     "execution_count": 12,
     "metadata": {},
     "output_type": "execute_result"
    }
   ],
   "source": [
    "path =  r\"C:\\Users\\sdiaz\\Repositories\\STRATEGICS_BUSSINES_ANALYTICS\\PASTAPURCHASE_EDITED.csv\"\n",
    "Fav_Data = pd.read_csv(path)\n",
    "Fav_Data"
   ]
  },
  {
   "cell_type": "code",
   "execution_count": 14,
   "id": "4600fb9c",
   "metadata": {},
   "outputs": [
    {
     "name": "stdout",
     "output_type": "stream",
     "text": [
      "          PASTA\n",
      "HHID           \n",
      "1     42.524262\n",
      "2     46.355283\n",
      "3     37.507455\n",
      "4     39.123709\n",
      "5     41.318862\n",
      "...         ...\n",
      "1996  42.601586\n",
      "1997  39.881560\n",
      "1998  40.594879\n",
      "1999  38.499833\n",
      "2000  33.562716\n",
      "\n",
      "[2000 rows x 1 columns]\n"
     ]
    }
   ],
   "source": [
    "df = pd.DataFrame(Fav_Data)\n",
    "\n",
    "#Agrupar por ID y sumar las columnas deseadas\n",
    "df_agrupado = df.groupby('HHID')[['PASTA']].sum()\n",
    "\n",
    "# Mostrar el DataFrame resultante\n",
    "print(df_agrupado)\n"
   ]
  },
  {
   "cell_type": "code",
   "execution_count": 16,
   "id": "8057ba39",
   "metadata": {},
   "outputs": [
    {
     "data": {
      "text/plain": [
       "<Axes: >"
      ]
     },
     "execution_count": 16,
     "metadata": {},
     "output_type": "execute_result"
    },
    {
     "data": {
      "image/png": "[encoded data removed]",
      "text/plain": [
       "<Figure size 640x480 with 1 Axes>"
      ]
     },
     "metadata": {},
     "output_type": "display_data"
    }
   ],
   "source": [
    "df_agrupado[\"PASTA\"].hist()"
   ]
  },
  {
   "cell_type": "code",
   "execution_count": null,
   "id": "53d5da68",
   "metadata": {},
   "outputs": [],
   "source": []
  }
 ],
 "metadata": {
  "kernelspec": {
   "display_name": "base",
   "language": "python",
   "name": "python3"
  },
  "language_info": {
   "codemirror_mode": {
    "name": "ipython",
    "version": 3
   },
   "file_extension": ".py",
   "mimetype": "text/x-python",
   "name": "python",
   "nbconvert_exporter": "python",
   "pygments_lexer": "ipython3",
   "version": "3.10.9"
  }
 },
 "nbformat": 4,
 "nbformat_minor": 5
}
